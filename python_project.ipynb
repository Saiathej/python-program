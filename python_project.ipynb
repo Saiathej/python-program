{
  "nbformat": 4,
  "nbformat_minor": 0,
  "metadata": {
    "colab": {
      "provenance": []
    },
    "kernelspec": {
      "name": "python3",
      "display_name": "Python 3"
    },
    "language_info": {
      "name": "python"
    }
  },
  "cells": [
    {
      "cell_type": "code",
      "execution_count": null,
      "metadata": {
        "id": "zUfXB7tiTMRr"
      },
      "outputs": [],
      "source": []
    },
    {
      "cell_type": "markdown",
      "source": [
        "# simple calcultor"
      ],
      "metadata": {
        "id": "JyRkIq_DTNAn"
      }
    },
    {
      "cell_type": "code",
      "source": [
        "def add(x,y):\n",
        "  return x+y\n",
        "def substract(x,y):\n",
        "  return x-y\n",
        "def multipliy(x,y):\n",
        "  return x*y\n",
        "def divide(x,y):\n",
        "  if y!=0:\n",
        "    return x/y\n",
        "  else:\n",
        "    return \"error! division by zero\"\n",
        "def calculator():\n",
        "  print(\"simple calculator\")\n",
        "  print(\"choose operation:\")\n",
        "  print(\"1.add\")\n",
        "  print(\"2.substract\")\n",
        "  print(\"3.multipliy\")\n",
        "  print(\"4.divide\")\n",
        "  while True:\n",
        "    choice=input(\"enter choice(1/2/3/4):\")\n",
        "    if choice in ('1','2','3','4'):\n",
        "      num1=float(input(\"enter first number:\"))\n",
        "      num2=float(input(\"enter second number:\"))\n",
        "      if choice=='1':\n",
        "        print(f\"the result is:{add(num1,num2)}\")\n",
        "      elif choice=='2':\n",
        "        print(f\"the result is:{substract(num1,num2)}\")\n",
        "      elif choice=='3':\n",
        "        print(f\"the result is:{multipliy(num1,num2)}\")\n",
        "      elif choice=='4':\n",
        "        print(f\"the result is:{divide(num1,num2)}\")\n",
        "\n",
        "      next_calculation = input(\"do you want to perform another calculation? (yes/no): \")\n",
        "      if next_calculation.lower() != \"yes\":\n",
        "        break\n",
        "      else:\n",
        "          print(\"invalid input\")\n",
        "# Run the calculator\n",
        "calculator()\n",
        ""
      ],
      "metadata": {
        "colab": {
          "base_uri": "https://localhost:8080/"
        },
        "id": "gavhZueVTRE1",
        "outputId": "d87a94b0-e21f-4ada-b291-1d928094d30e"
      },
      "execution_count": null,
      "outputs": [
        {
          "output_type": "stream",
          "name": "stdout",
          "text": [
            "simple calculator\n",
            "choose operation:\n",
            "1.add\n",
            "2.substract\n",
            "3.multipliy\n",
            "4.divide\n"
          ]
        }
      ]
    },
    {
      "cell_type": "code",
      "source": [],
      "metadata": {
        "id": "PFIVUPsTYC0A"
      },
      "execution_count": null,
      "outputs": []
    }
  ]
}